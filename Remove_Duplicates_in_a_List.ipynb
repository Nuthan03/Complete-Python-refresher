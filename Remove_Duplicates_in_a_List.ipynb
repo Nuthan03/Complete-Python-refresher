{
  "nbformat": 4,
  "nbformat_minor": 0,
  "metadata": {
    "colab": {
      "private_outputs": true,
      "provenance": [],
      "authorship_tag": "ABX9TyO7Fb0LYhGQH5V4Qbbq5pmA",
      "include_colab_link": true
    },
    "kernelspec": {
      "name": "python3",
      "display_name": "Python 3"
    },
    "language_info": {
      "name": "python"
    }
  },
  "cells": [
    {
      "cell_type": "markdown",
      "metadata": {
        "id": "view-in-github",
        "colab_type": "text"
      },
      "source": [
        "<a href=\"https://colab.research.google.com/github/Nuthan03/Complete-Python-refresher/blob/main/Remove_Duplicates_in_a_List.ipynb\" target=\"_parent\"><img src=\"https://colab.research.google.com/assets/colab-badge.svg\" alt=\"Open In Colab\"/></a>"
      ]
    },
    {
      "cell_type": "code",
      "execution_count": null,
      "metadata": {
        "id": "ldWALVjDKqHR"
      },
      "outputs": [],
      "source": [
        "def remove_dup_loop(input_list):\n",
        "    new_list = []\n",
        "    new_list.extend(i for i in input_list if i not in new_list)\n",
        "    return new_list\n",
        "\n",
        "\n",
        "def remove_dup_set(input_list):\n",
        "\n",
        " return list(set(input_list))\n",
        "\n",
        "a = [1, 1, 2, 3, 5, 8, 13, 21, 34, 55, 89, 1, 2, 3, 89, 4, 5, 6, 7, 8, 9, 10, 11, 12, 13, 67, 71]\n",
        "print(remove_dup_loop(a))\n",
        "print(remove_dup_set(a))"
      ]
    },
    {
      "cell_type": "code",
      "source": [],
      "metadata": {
        "id": "XBiu-tEGK65r"
      },
      "execution_count": null,
      "outputs": []
    }
  ]
}