{
  "nbformat": 4,
  "nbformat_minor": 0,
  "metadata": {
    "colab": {
      "private_outputs": true,
      "provenance": [],
      "authorship_tag": "ABX9TyPYFP58dT1Tg1G/4BykXYPb",
      "include_colab_link": true
    },
    "kernelspec": {
      "name": "python3",
      "display_name": "Python 3"
    },
    "language_info": {
      "name": "python"
    }
  },
  "cells": [
    {
      "cell_type": "markdown",
      "metadata": {
        "id": "view-in-github",
        "colab_type": "text"
      },
      "source": [
        "<a href=\"https://colab.research.google.com/github/Nuthan03/Complete-Python-refresher/blob/main/Cows_%26_Bulls.ipynb\" target=\"_parent\"><img src=\"https://colab.research.google.com/assets/colab-badge.svg\" alt=\"Open In Colab\"/></a>"
      ]
    },
    {
      "cell_type": "code",
      "execution_count": null,
      "metadata": {
        "id": "fe22YCANJEkC"
      },
      "outputs": [],
      "source": [
        "import random\n",
        "\n",
        "def generate_number():\n",
        "    return str(random.randint(1000, 9999))\n",
        "maxattempts = 10\n",
        "\n",
        "def get_cows_and_bulls(secret, guess):\n",
        "    cows = sum(1 for s, g in zip(secret, guess) if s == g)\n",
        "    bulls = sum(1 for g in guess if g in secret) - cows\n",
        "    return cows, bulls\n",
        "\n",
        "def main():\n",
        "    attempts = maxattempts\n",
        "    secret_number = generate_number()\n",
        "    attempts = 0\n",
        "    print(\"Welcome to Cows and Bulls!\")\n",
        "    print(\"Try to guess the 4-digit number.\")\n",
        "\n",
        "    while True:\n",
        "        guess = input(\"Enter your guess: \")\n",
        "        if not guess.isdigit() or len(guess) != 4:\n",
        "            print(\"Invalid input. Please enter a 4-digit number.\")\n",
        "            continue\n",
        "\n",
        "        attempts += 1\n",
        "        cows, bulls = get_cows_and_bulls(secret_number, guess)\n",
        "        print(f\"Cows: {cows}, Bulls: {bulls}\")\n",
        "\n",
        "        if cows == 4:\n",
        "            print(f\"Congratulations! You guessed the number in {attempts} attempts.\")\n",
        "            break\n",
        "        elif bulls == 4:\n",
        "            print(f\"Congratulations! You guessed the number in {attempts} attempts.\")\n",
        "            break\n",
        "        elif attempts == maxattempts:\n",
        "            print(f\"sorry you have passed the max attempts mark the number was {secret_number}\")\n",
        "            break\n",
        "\n",
        "\n",
        "\n",
        "if __name__ == \"__main__\":\n",
        "    main()"
      ]
    },
    {
      "cell_type": "code",
      "source": [],
      "metadata": {
        "id": "3XT9T9H1JOg3"
      },
      "execution_count": null,
      "outputs": []
    }
  ]
}