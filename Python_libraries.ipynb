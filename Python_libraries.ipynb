{
  "nbformat": 4,
  "nbformat_minor": 0,
  "metadata": {
    "colab": {
      "private_outputs": true,
      "provenance": [],
      "cell_execution_strategy": "setup",
      "authorship_tag": "ABX9TyP4TfW56qzkaFr7Mrzq06ZV",
      "include_colab_link": true
    },
    "kernelspec": {
      "name": "python3",
      "display_name": "Python 3"
    },
    "language_info": {
      "name": "python"
    }
  },
  "cells": [
    {
      "cell_type": "markdown",
      "metadata": {
        "id": "view-in-github",
        "colab_type": "text"
      },
      "source": [
        "<a href=\"https://colab.research.google.com/github/Nuthan03/Complete-Python-refresher/blob/main/Python_libraries.ipynb\" target=\"_parent\"><img src=\"https://colab.research.google.com/assets/colab-badge.svg\" alt=\"Open In Colab\"/></a>"
      ]
    },
    {
      "cell_type": "markdown",
      "source": [
        "Numpy & Pandas\n"
      ],
      "metadata": {
        "id": "NVQ7DFT3Op3K"
      }
    },
    {
      "cell_type": "code",
      "execution_count": null,
      "metadata": {
        "id": "NtVjNOg_LUNt"
      },
      "outputs": [],
      "source": [
        "import numpy as np\n",
        "import pandas as pd\n",
        "import matplotlib.pyplot as plt\n",
        "\n",
        "data = pd.read_csv('Salaries.csv')\n",
        "\n",
        "print(\"First 5 rows: \")\n",
        "print(data.head())\n",
        "\n",
        "print(\"\\nLast 5 rows: \")\n",
        "print(data.tail())\n",
        "\n",
        "highestSalary = data['salary'].max()\n",
        "print(\"\\nHighest Paid: \", highestSalary)\n",
        "\n",
        "averageSalary = data['salary'].mean()\n",
        "print(\"\\nAverage Salary: \", averageSalary)\n",
        "\n",
        "plt.figure(figsize=(10, 6))\n",
        "plt.hist(data[data['sex'] == 'Male']['salary'], alpha=0.5, label='Male')\n",
        "plt.hist(data[data['sex'] == 'Female']['salary'], alpha=0.5, label='Female')\n",
        "plt.title('Salary Distribution by Gender')\n",
        "plt.xlabel('Salary')\n",
        "plt.ylabel('Frequency')\n",
        "plt.legend()\n",
        "plt.show()"
      ]
    },
    {
      "cell_type": "markdown",
      "source": [
        "Images"
      ],
      "metadata": {
        "id": "TyqNcYV6OyXg"
      }
    },
    {
      "cell_type": "code",
      "source": [
        "from PIL import Image\n",
        "import matplotlib.pyplot as plt\n",
        "import numpy as np\n",
        "\n",
        "image = Image.open(r'test.jpg')\n",
        "plt.imshow(image)\n",
        "plt.show()\n",
        "\n",
        "cropBy = (200, 200, 400, 400)\n",
        "\n",
        "croppedImg = image.crop(cropBy)\n",
        "plt.imshow(croppedImg)\n",
        "plt.show()\n",
        "\n",
        "cat = Image.open(r'cat.jpg')\n",
        "plt.imshow(cat)\n",
        "plt.show()\n",
        "\n",
        "imgtoRGB = cat.convert('RGB')\n",
        "imgtoArray = np.array(imgtoRGB)\n",
        "\n",
        "avgColor = np.mean(imgtoArray, axis=(0, 1))\n",
        "print(\"Average color is: \", avgColor)\n",
        "\n",
        "tintImg = np.clip(imgtoArray * 0.5, 0, 255).astype(np.uint8)\n",
        "finalImg = Image.fromarray(tintImg)\n",
        "\n",
        "plt.imshow(finalImg)\n",
        "plt.show()"
      ],
      "metadata": {
        "id": "N-DdfD_CLxBz"
      },
      "execution_count": null,
      "outputs": []
    },
    {
      "cell_type": "markdown",
      "source": [
        "Pokemon"
      ],
      "metadata": {
        "id": "M0zN-wFfO5rh"
      }
    },
    {
      "cell_type": "code",
      "source": [
        "import pandas as pd\n",
        "from collections import Counter\n",
        "import numpy as np\n",
        "import matplotlib.pyplot as plt\n",
        "\n",
        "data = pd.read_csv(r\"all_pokemon.csv\")\n",
        "\n",
        "data['Type'] = data['Type'].apply(lambda x: x.split(','))\n",
        "\n",
        "typesNum = Counter()\n",
        "for types in data['Type']:\n",
        "    typesNum.update(types)\n",
        "\n",
        "for type_, count in typesNum.items():\n",
        "    print(type_, count)\n",
        "\n",
        "strongest = data.loc[data['Total'].idxmax(), 'Type']\n",
        "print('The strongest tyoe: ',strongest)\n",
        "\n",
        "stats = data[['Total', 'HP', 'Attack', 'Defense', 'Sp. Atk', 'Sp. Def', 'Speed']].values\n",
        "properties = ['Total', 'HP', 'Attack', 'Defense', 'Sp. Atk', 'Sp. Def', 'Speed']\n",
        "\n",
        "averages = np.mean(stats, axis=0)\n",
        "variances = np.var(stats, axis=0)\n",
        "\n",
        "fig, ax = plt.subplots(2, 1, figsize=(10, 8))\n",
        "\n",
        "ax[0].bar(properties, averages, color='blue')\n",
        "ax[0].set_title('Average Values')\n",
        "\n",
        "ax[1].bar(properties, variances, color='red')\n",
        "ax[1].set_title('Variance')\n",
        "\n",
        "plt.tight_layout()\n",
        "plt.show()"
      ],
      "metadata": {
        "id": "1Cva_Z8YN9oI"
      },
      "execution_count": null,
      "outputs": []
    },
    {
      "cell_type": "code",
      "source": [],
      "metadata": {
        "id": "Y2r_s_SFOmI7"
      },
      "execution_count": null,
      "outputs": []
    }
  ]
}