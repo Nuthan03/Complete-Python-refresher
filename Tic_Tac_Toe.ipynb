{
  "nbformat": 4,
  "nbformat_minor": 0,
  "metadata": {
    "colab": {
      "private_outputs": true,
      "provenance": [],
      "gpuType": "T4",
      "cell_execution_strategy": "setup",
      "authorship_tag": "ABX9TyPr7tn8QFiyBNxEjNOtCGDM",
      "include_colab_link": true
    },
    "kernelspec": {
      "name": "python3",
      "display_name": "Python 3"
    },
    "language_info": {
      "name": "python"
    },
    "accelerator": "GPU"
  },
  "cells": [
    {
      "cell_type": "markdown",
      "metadata": {
        "id": "view-in-github",
        "colab_type": "text"
      },
      "source": [
        "<a href=\"https://colab.research.google.com/github/Nuthan03/Complete-Python-refresher/blob/main/Tic_Tac_Toe.ipynb\" target=\"_parent\"><img src=\"https://colab.research.google.com/assets/colab-badge.svg\" alt=\"Open In Colab\"/></a>"
      ]
    },
    {
      "cell_type": "code",
      "execution_count": null,
      "metadata": {
        "id": "IWIksqnvd_m7"
      },
      "outputs": [],
      "source": [
        "board = [[\" \" for _ in range(3)] for _ in range(3)]\n",
        "def draw_board(board):\n",
        "  print(13 * '-')\n",
        "  for row in board:\n",
        "    print('|', end=' ')\n",
        "    for cell in row:\n",
        "      print(cell, '|', end=' ')\n",
        "    print()\n",
        "    print(13 * '-')\n",
        "draw_board(board)"
      ]
    },
    {
      "cell_type": "code",
      "source": [
        "def draw_board(board):\n",
        "    print(13 * '-')\n",
        "    for row in board:\n",
        "        print('|', end=' ')\n",
        "        for cell in row:\n",
        "            print(cell, '|', end=' ')\n",
        "        print()\n",
        "        print(13 * '-')"
      ],
      "metadata": {
        "id": "KcHYBoYJmgsP"
      },
      "execution_count": null,
      "outputs": []
    },
    {
      "cell_type": "code",
      "source": [
        "def check_winner(board, player):\n",
        "    # Check rows and columns\n",
        "    for i in range(3):\n",
        "        if all(board[i][j] == player for j in range(3)) or all(board[j][i] == player for j in range(3)):\n",
        "            return True\n",
        "    # Check diagonals\n",
        "    if all(board[i][i] == player for i in range(3)) or all(board[i][2 - i] == player for i in range(3)):\n",
        "        return True\n",
        "    return False"
      ],
      "metadata": {
        "id": "0ZkozOkf4ZAU"
      },
      "execution_count": null,
      "outputs": []
    },
    {
      "cell_type": "code",
      "source": [
        "def is_draw(board):\n",
        "    return all(cell != \" \" for row in board for cell in row)"
      ],
      "metadata": {
        "id": "6LzQprYP8_Gn"
      },
      "execution_count": null,
      "outputs": []
    },
    {
      "cell_type": "code",
      "source": [
        "def play_game():\n",
        "    players = ['X', 'O']\n",
        "    turn = 0\n",
        "\n",
        "    while True:\n",
        "        draw_board(board)\n",
        "        try:\n",
        "            row, col = map(int, input(f\"Player {players[turn]} - Enter row and col (0-2): \").split())\n",
        "            if board[row][col] == \" \":\n",
        "                board[row][col] = players[turn]\n",
        "                if check_winner(board, players[turn]):\n",
        "                    draw_board(board)\n",
        "                    print(f\"Player {players[turn]} wins!\")\n",
        "                    break\n",
        "                if is_draw(board):\n",
        "                    draw_board(board)\n",
        "                    print(\"It's a draw!\")\n",
        "                    break\n",
        "                turn = 1 - turn  # Switch turns\n",
        "            else:\n",
        "                print(\"Cell already taken, try again.\")\n",
        "        except (ValueError, IndexError):\n",
        "            print(\"Invalid input, enter numbers between 0 and 2.\")\n",
        "\n",
        "if __name__ == \"__main__\":\n",
        "    play_game()"
      ],
      "metadata": {
        "id": "4x2pYM9w9DCU"
      },
      "execution_count": null,
      "outputs": []
    },
    {
      "cell_type": "code",
      "source": [],
      "metadata": {
        "id": "m98qXDhK9HQt"
      },
      "execution_count": null,
      "outputs": []
    }
  ]
}