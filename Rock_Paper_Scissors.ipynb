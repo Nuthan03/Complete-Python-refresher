{
  "nbformat": 4,
  "nbformat_minor": 0,
  "metadata": {
    "colab": {
      "provenance": [],
      "gpuType": "T4",
      "cell_execution_strategy": "setup",
      "authorship_tag": "ABX9TyN88pDZKXDJulav7qlNLkAY",
      "include_colab_link": true
    },
    "kernelspec": {
      "name": "python3",
      "display_name": "Python 3"
    },
    "language_info": {
      "name": "python"
    },
    "accelerator": "GPU"
  },
  "cells": [
    {
      "cell_type": "markdown",
      "metadata": {
        "id": "view-in-github",
        "colab_type": "text"
      },
      "source": [
        "<a href=\"https://colab.research.google.com/github/Nuthan03/Complete-Python-refresher/blob/main/Rock_Paper_Scissors.ipynb\" target=\"_parent\"><img src=\"https://colab.research.google.com/assets/colab-badge.svg\" alt=\"Open In Colab\"/></a>"
      ]
    },
    {
      "cell_type": "code",
      "execution_count": null,
      "metadata": {
        "id": "oTULvKSGAQXQ"
      },
      "outputs": [],
      "source": [
        "import random\n",
        "def get_player_choice(player):\n",
        "    choices = [\"rock\", \"paper\", \"scissors\"]\n",
        "    while True:\n",
        "        choice = input(f\"{player}, enter rock, paper, or scissors: \").strip().lower()\n",
        "        if choice in choices:\n",
        "            return choice\n",
        "        print(\"Invalid choice. Please enter rock, paper, or scissors.\")\n",
        "#taking computers choice\n",
        "def get_computer_choice():\n",
        "    return random.choice([\"rock\", \"paper\", \"scissors\"])\n",
        "\n",
        "#determining the Winner\n",
        "def determine_winner(choice1, choice2):\n",
        "    if choice1 == choice2:\n",
        "        return \"It's a tie!\"\n",
        "    elif (choice1 == \"rock\" and choice2 == \"scissors\") or \\\n",
        "         (choice1 == \"scissors\" and choice2 == \"paper\") or \\\n",
        "         (choice1 == \"paper\" and choice2 == \"rock\"):\n",
        "        return \"Player 1 wins!\"\n",
        "    else:\n",
        "        return \"Player 2 wins!\"\n",
        "#Main call to play game function\n",
        "def play_game():\n",
        "    while True:\n",
        "        print(\"**************************** Rock Paper Scissors*****************************\")\n",
        "        mode = input(\"Enter '1' to play against computer or '2' for two-player mode: \").strip()\n",
        "        if mode == '1':\n",
        "            player_choice = get_player_choice(\"Player\")\n",
        "            computer_choice = get_computer_choice()\n",
        "            print(f\"Computer chose {computer_choice}\")\n",
        "            result = determine_winner(player_choice, computer_choice)\n",
        "        elif mode == '2':\n",
        "            player1_choice = get_player_choice(\"Player 1\")\n",
        "            player2_choice = get_player_choice(\"Player 2\")\n",
        "            result = determine_winner(player1_choice, player2_choice)\n",
        "        else:\n",
        "            print(\"Invalid mode. Please enter '1' or '2'.\")\n",
        "            continue\n",
        "\n",
        "        print(result)\n",
        "        play_again = input(\"Do you want to play again? (yes/no): \").strip().lower()\n",
        "        if play_again != \"yes\":\n",
        "            break\n",
        "\n",
        "if __name__ == \"__main__\":\n",
        "    play_game()"
      ]
    }
  ]
}